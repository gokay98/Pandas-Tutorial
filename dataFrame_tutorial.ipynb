{
 "cells": [
  {
   "cell_type": "markdown",
   "id": "754b65a8",
   "metadata": {},
   "source": [
    "Data Birleştirme"
   ]
  },
  {
   "cell_type": "code",
   "execution_count": 2,
   "id": "b0feb60b",
   "metadata": {},
   "outputs": [],
   "source": [
    "import pandas as pd"
   ]
  },
  {
   "cell_type": "code",
   "execution_count": 10,
   "id": "01b37289",
   "metadata": {},
   "outputs": [],
   "source": [
    "data_a = {'id': ['1', '2', '3'],\n",
    " 'first': ['Alex', 'Amy', 'Allen'],\n",
    " 'last': ['Anderson', 'Ackerman', 'Ali']}\n",
    "\n",
    "df_a = pd.DataFrame(data_a) #dataframe e çevirme\n"
   ]
  },
  {
   "cell_type": "code",
   "execution_count": 11,
   "id": "9153fc70",
   "metadata": {},
   "outputs": [],
   "source": [
    "data_b = {'id': ['4', '5', '6'],\n",
    " 'first': ['Billy', 'Brian', 'Bran'],\n",
    " 'last': ['Bonder', 'Black', 'Balwner']}\n",
    "\n",
    "df_b = pd.DataFrame(data_b) #dataframe e çevirme\n"
   ]
  },
  {
   "cell_type": "code",
   "execution_count": 14,
   "id": "61af95d7",
   "metadata": {},
   "outputs": [],
   "source": [
    "concat_df = pd.concat([df_a, df_b], axis = 0) #dataframe leri birleştirme"
   ]
  },
  {
   "cell_type": "code",
   "execution_count": 15,
   "id": "d962f8ca",
   "metadata": {},
   "outputs": [
    {
     "data": {
      "text/html": [
       "<div>\n",
       "<style scoped>\n",
       "    .dataframe tbody tr th:only-of-type {\n",
       "        vertical-align: middle;\n",
       "    }\n",
       "\n",
       "    .dataframe tbody tr th {\n",
       "        vertical-align: top;\n",
       "    }\n",
       "\n",
       "    .dataframe thead th {\n",
       "        text-align: right;\n",
       "    }\n",
       "</style>\n",
       "<table border=\"1\" class=\"dataframe\">\n",
       "  <thead>\n",
       "    <tr style=\"text-align: right;\">\n",
       "      <th></th>\n",
       "      <th>id</th>\n",
       "      <th>first</th>\n",
       "      <th>last</th>\n",
       "    </tr>\n",
       "  </thead>\n",
       "  <tbody>\n",
       "    <tr>\n",
       "      <th>0</th>\n",
       "      <td>1</td>\n",
       "      <td>Alex</td>\n",
       "      <td>Anderson</td>\n",
       "    </tr>\n",
       "    <tr>\n",
       "      <th>1</th>\n",
       "      <td>2</td>\n",
       "      <td>Amy</td>\n",
       "      <td>Ackerman</td>\n",
       "    </tr>\n",
       "    <tr>\n",
       "      <th>2</th>\n",
       "      <td>3</td>\n",
       "      <td>Allen</td>\n",
       "      <td>Ali</td>\n",
       "    </tr>\n",
       "    <tr>\n",
       "      <th>0</th>\n",
       "      <td>4</td>\n",
       "      <td>Billy</td>\n",
       "      <td>Bonder</td>\n",
       "    </tr>\n",
       "    <tr>\n",
       "      <th>1</th>\n",
       "      <td>5</td>\n",
       "      <td>Brian</td>\n",
       "      <td>Black</td>\n",
       "    </tr>\n",
       "  </tbody>\n",
       "</table>\n",
       "</div>"
      ],
      "text/plain": [
       "  id  first      last\n",
       "0  1   Alex  Anderson\n",
       "1  2    Amy  Ackerman\n",
       "2  3  Allen       Ali\n",
       "0  4  Billy    Bonder\n",
       "1  5  Brian     Black"
      ]
     },
     "execution_count": 15,
     "metadata": {},
     "output_type": "execute_result"
    }
   ],
   "source": [
    "concat_df.head()"
   ]
  },
  {
   "cell_type": "markdown",
   "id": "43275b38",
   "metadata": {},
   "source": [
    "Farklı bir veri tipi"
   ]
  },
  {
   "cell_type": "code",
   "execution_count": 20,
   "id": "efd8bff1",
   "metadata": {},
   "outputs": [],
   "source": [
    "employee_data = {'employee_id': ['1', '2', '3', '4'],\n",
    " 'name': ['Amy Jones', 'Allen Keys', 'Alice Bees',\n",
    " 'Tim Horton']}"
   ]
  },
  {
   "cell_type": "code",
   "execution_count": 27,
   "id": "6a044bec",
   "metadata": {},
   "outputs": [],
   "source": [
    "employee = pd.DataFrame(employee_data,columns = ['employee_id', 'name'])"
   ]
  },
  {
   "cell_type": "code",
   "execution_count": 28,
   "id": "c83c0d9b",
   "metadata": {},
   "outputs": [],
   "source": [
    "sales = {'employee_id': ['3', '4', '5', '6'],\n",
    "'total_sales': [23456, 2512, 2345, 1455]}"
   ]
  },
  {
   "cell_type": "code",
   "execution_count": 31,
   "id": "2afccdfd",
   "metadata": {},
   "outputs": [],
   "source": [
    "sales = pd.DataFrame(sales_data, columns = ['employee_id','total_sales'])"
   ]
  },
  {
   "cell_type": "code",
   "execution_count": null,
   "id": "6ef591d5",
   "metadata": {},
   "outputs": [
    {
     "data": {
      "text/html": [
       "<div>\n",
       "<style scoped>\n",
       "    .dataframe tbody tr th:only-of-type {\n",
       "        vertical-align: middle;\n",
       "    }\n",
       "\n",
       "    .dataframe tbody tr th {\n",
       "        vertical-align: top;\n",
       "    }\n",
       "\n",
       "    .dataframe thead th {\n",
       "        text-align: right;\n",
       "    }\n",
       "</style>\n",
       "<table border=\"1\" class=\"dataframe\">\n",
       "  <thead>\n",
       "    <tr style=\"text-align: right;\">\n",
       "      <th></th>\n",
       "      <th>employee_id</th>\n",
       "      <th>name</th>\n",
       "      <th>total_sales</th>\n",
       "    </tr>\n",
       "  </thead>\n",
       "  <tbody>\n",
       "    <tr>\n",
       "      <th>0</th>\n",
       "      <td>1</td>\n",
       "      <td>Amy Jones</td>\n",
       "      <td>NaN</td>\n",
       "    </tr>\n",
       "    <tr>\n",
       "      <th>1</th>\n",
       "      <td>2</td>\n",
       "      <td>Allen Keys</td>\n",
       "      <td>NaN</td>\n",
       "    </tr>\n",
       "    <tr>\n",
       "      <th>2</th>\n",
       "      <td>3</td>\n",
       "      <td>Alice Bees</td>\n",
       "      <td>23456.0</td>\n",
       "    </tr>\n",
       "    <tr>\n",
       "      <th>3</th>\n",
       "      <td>4</td>\n",
       "      <td>Tim Horton</td>\n",
       "      <td>2512.0</td>\n",
       "    </tr>\n",
       "    <tr>\n",
       "      <th>4</th>\n",
       "      <td>5</td>\n",
       "      <td>NaN</td>\n",
       "      <td>2345.0</td>\n",
       "    </tr>\n",
       "    <tr>\n",
       "      <th>5</th>\n",
       "      <td>6</td>\n",
       "      <td>NaN</td>\n",
       "      <td>1455.0</td>\n",
       "    </tr>\n",
       "  </tbody>\n",
       "</table>\n",
       "</div>"
      ],
      "text/plain": [
       "  employee_id        name  total_sales\n",
       "0           1   Amy Jones          NaN\n",
       "1           2  Allen Keys          NaN\n",
       "2           3  Alice Bees      23456.0\n",
       "3           4  Tim Horton       2512.0\n",
       "4           5         NaN       2345.0\n",
       "5           6         NaN       1455.0"
      ]
     },
     "execution_count": 33,
     "metadata": {},
     "output_type": "execute_result"
    }
   ],
   "source": [
    "pd.merge(employee,sales, on = 'employee_id', how = 'outer') #on = employee_id üzerinden birleştirir ve hiçbir veri kaybetmez."
   ]
  }
 ],
 "metadata": {
  "kernelspec": {
   "display_name": "venv",
   "language": "python",
   "name": "python3"
  },
  "language_info": {
   "codemirror_mode": {
    "name": "ipython",
    "version": 3
   },
   "file_extension": ".py",
   "mimetype": "text/x-python",
   "name": "python",
   "nbconvert_exporter": "python",
   "pygments_lexer": "ipython3",
   "version": "3.11.13"
  }
 },
 "nbformat": 4,
 "nbformat_minor": 5
}
